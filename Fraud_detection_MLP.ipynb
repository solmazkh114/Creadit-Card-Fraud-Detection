{
  "nbformat": 4,
  "nbformat_minor": 0,
  "metadata": {
    "colab": {
      "provenance": []
    },
    "kernelspec": {
      "name": "python3",
      "display_name": "Python 3"
    },
    "language_info": {
      "name": "python"
    },
    "accelerator": "GPU",
    "gpuClass": "standard"
  },
  "cells": [
    {
      "cell_type": "markdown",
      "source": [
        "# Download the dataset from Kaggle"
      ],
      "metadata": {
        "id": "hf291IlnmNA4"
      }
    },
    {
      "cell_type": "code",
      "source": [
        "! pip install -q kaggle"
      ],
      "metadata": {
        "id": "CLmkUuehgGZZ"
      },
      "execution_count": 2,
      "outputs": []
    },
    {
      "cell_type": "markdown",
      "source": [
        "Create New API Token on your Kaggle account. It will download kaggle.json file on your machine."
      ],
      "metadata": {
        "id": "UDj4jg8nprRb"
      }
    },
    {
      "cell_type": "code",
      "execution_count": 3,
      "metadata": {
        "colab": {
          "base_uri": "https://localhost:8080/",
          "height": 73
        },
        "id": "b0fChA0zObXP",
        "outputId": "f085b181-87bb-461b-ed00-c9113159a3fc"
      },
      "outputs": [
        {
          "output_type": "display_data",
          "data": {
            "text/plain": [
              "<IPython.core.display.HTML object>"
            ],
            "text/html": [
              "\n",
              "     <input type=\"file\" id=\"files-9aabbbae-041b-4e0a-be6a-f566dfaecd73\" name=\"files[]\" multiple disabled\n",
              "        style=\"border:none\" />\n",
              "     <output id=\"result-9aabbbae-041b-4e0a-be6a-f566dfaecd73\">\n",
              "      Upload widget is only available when the cell has been executed in the\n",
              "      current browser session. Please rerun this cell to enable.\n",
              "      </output>\n",
              "      <script>// Copyright 2017 Google LLC\n",
              "//\n",
              "// Licensed under the Apache License, Version 2.0 (the \"License\");\n",
              "// you may not use this file except in compliance with the License.\n",
              "// You may obtain a copy of the License at\n",
              "//\n",
              "//      http://www.apache.org/licenses/LICENSE-2.0\n",
              "//\n",
              "// Unless required by applicable law or agreed to in writing, software\n",
              "// distributed under the License is distributed on an \"AS IS\" BASIS,\n",
              "// WITHOUT WARRANTIES OR CONDITIONS OF ANY KIND, either express or implied.\n",
              "// See the License for the specific language governing permissions and\n",
              "// limitations under the License.\n",
              "\n",
              "/**\n",
              " * @fileoverview Helpers for google.colab Python module.\n",
              " */\n",
              "(function(scope) {\n",
              "function span(text, styleAttributes = {}) {\n",
              "  const element = document.createElement('span');\n",
              "  element.textContent = text;\n",
              "  for (const key of Object.keys(styleAttributes)) {\n",
              "    element.style[key] = styleAttributes[key];\n",
              "  }\n",
              "  return element;\n",
              "}\n",
              "\n",
              "// Max number of bytes which will be uploaded at a time.\n",
              "const MAX_PAYLOAD_SIZE = 100 * 1024;\n",
              "\n",
              "function _uploadFiles(inputId, outputId) {\n",
              "  const steps = uploadFilesStep(inputId, outputId);\n",
              "  const outputElement = document.getElementById(outputId);\n",
              "  // Cache steps on the outputElement to make it available for the next call\n",
              "  // to uploadFilesContinue from Python.\n",
              "  outputElement.steps = steps;\n",
              "\n",
              "  return _uploadFilesContinue(outputId);\n",
              "}\n",
              "\n",
              "// This is roughly an async generator (not supported in the browser yet),\n",
              "// where there are multiple asynchronous steps and the Python side is going\n",
              "// to poll for completion of each step.\n",
              "// This uses a Promise to block the python side on completion of each step,\n",
              "// then passes the result of the previous step as the input to the next step.\n",
              "function _uploadFilesContinue(outputId) {\n",
              "  const outputElement = document.getElementById(outputId);\n",
              "  const steps = outputElement.steps;\n",
              "\n",
              "  const next = steps.next(outputElement.lastPromiseValue);\n",
              "  return Promise.resolve(next.value.promise).then((value) => {\n",
              "    // Cache the last promise value to make it available to the next\n",
              "    // step of the generator.\n",
              "    outputElement.lastPromiseValue = value;\n",
              "    return next.value.response;\n",
              "  });\n",
              "}\n",
              "\n",
              "/**\n",
              " * Generator function which is called between each async step of the upload\n",
              " * process.\n",
              " * @param {string} inputId Element ID of the input file picker element.\n",
              " * @param {string} outputId Element ID of the output display.\n",
              " * @return {!Iterable<!Object>} Iterable of next steps.\n",
              " */\n",
              "function* uploadFilesStep(inputId, outputId) {\n",
              "  const inputElement = document.getElementById(inputId);\n",
              "  inputElement.disabled = false;\n",
              "\n",
              "  const outputElement = document.getElementById(outputId);\n",
              "  outputElement.innerHTML = '';\n",
              "\n",
              "  const pickedPromise = new Promise((resolve) => {\n",
              "    inputElement.addEventListener('change', (e) => {\n",
              "      resolve(e.target.files);\n",
              "    });\n",
              "  });\n",
              "\n",
              "  const cancel = document.createElement('button');\n",
              "  inputElement.parentElement.appendChild(cancel);\n",
              "  cancel.textContent = 'Cancel upload';\n",
              "  const cancelPromise = new Promise((resolve) => {\n",
              "    cancel.onclick = () => {\n",
              "      resolve(null);\n",
              "    };\n",
              "  });\n",
              "\n",
              "  // Wait for the user to pick the files.\n",
              "  const files = yield {\n",
              "    promise: Promise.race([pickedPromise, cancelPromise]),\n",
              "    response: {\n",
              "      action: 'starting',\n",
              "    }\n",
              "  };\n",
              "\n",
              "  cancel.remove();\n",
              "\n",
              "  // Disable the input element since further picks are not allowed.\n",
              "  inputElement.disabled = true;\n",
              "\n",
              "  if (!files) {\n",
              "    return {\n",
              "      response: {\n",
              "        action: 'complete',\n",
              "      }\n",
              "    };\n",
              "  }\n",
              "\n",
              "  for (const file of files) {\n",
              "    const li = document.createElement('li');\n",
              "    li.append(span(file.name, {fontWeight: 'bold'}));\n",
              "    li.append(span(\n",
              "        `(${file.type || 'n/a'}) - ${file.size} bytes, ` +\n",
              "        `last modified: ${\n",
              "            file.lastModifiedDate ? file.lastModifiedDate.toLocaleDateString() :\n",
              "                                    'n/a'} - `));\n",
              "    const percent = span('0% done');\n",
              "    li.appendChild(percent);\n",
              "\n",
              "    outputElement.appendChild(li);\n",
              "\n",
              "    const fileDataPromise = new Promise((resolve) => {\n",
              "      const reader = new FileReader();\n",
              "      reader.onload = (e) => {\n",
              "        resolve(e.target.result);\n",
              "      };\n",
              "      reader.readAsArrayBuffer(file);\n",
              "    });\n",
              "    // Wait for the data to be ready.\n",
              "    let fileData = yield {\n",
              "      promise: fileDataPromise,\n",
              "      response: {\n",
              "        action: 'continue',\n",
              "      }\n",
              "    };\n",
              "\n",
              "    // Use a chunked sending to avoid message size limits. See b/62115660.\n",
              "    let position = 0;\n",
              "    do {\n",
              "      const length = Math.min(fileData.byteLength - position, MAX_PAYLOAD_SIZE);\n",
              "      const chunk = new Uint8Array(fileData, position, length);\n",
              "      position += length;\n",
              "\n",
              "      const base64 = btoa(String.fromCharCode.apply(null, chunk));\n",
              "      yield {\n",
              "        response: {\n",
              "          action: 'append',\n",
              "          file: file.name,\n",
              "          data: base64,\n",
              "        },\n",
              "      };\n",
              "\n",
              "      let percentDone = fileData.byteLength === 0 ?\n",
              "          100 :\n",
              "          Math.round((position / fileData.byteLength) * 100);\n",
              "      percent.textContent = `${percentDone}% done`;\n",
              "\n",
              "    } while (position < fileData.byteLength);\n",
              "  }\n",
              "\n",
              "  // All done.\n",
              "  yield {\n",
              "    response: {\n",
              "      action: 'complete',\n",
              "    }\n",
              "  };\n",
              "}\n",
              "\n",
              "scope.google = scope.google || {};\n",
              "scope.google.colab = scope.google.colab || {};\n",
              "scope.google.colab._files = {\n",
              "  _uploadFiles,\n",
              "  _uploadFilesContinue,\n",
              "};\n",
              "})(self);\n",
              "</script> "
            ]
          },
          "metadata": {}
        },
        {
          "output_type": "stream",
          "name": "stdout",
          "text": [
            "Saving kaggle.json to kaggle.json\n"
          ]
        }
      ],
      "source": [
        "from google.colab import files\n",
        "uploaded = files.upload()"
      ]
    },
    {
      "cell_type": "code",
      "source": [
        "! mkdir ~/.kaggle"
      ],
      "metadata": {
        "id": "IZhmQURlgOrh"
      },
      "execution_count": 4,
      "outputs": []
    },
    {
      "cell_type": "code",
      "source": [
        "! cp kaggle.json ~/.kaggle/"
      ],
      "metadata": {
        "id": "JbrFrclaglsg"
      },
      "execution_count": 5,
      "outputs": []
    },
    {
      "cell_type": "code",
      "source": [
        "! chmod 600 ~/.kaggle/kaggle.json"
      ],
      "metadata": {
        "id": "ajKkt5Jlg-6R"
      },
      "execution_count": 6,
      "outputs": []
    },
    {
      "cell_type": "code",
      "source": [
        "!pwd"
      ],
      "metadata": {
        "colab": {
          "base_uri": "https://localhost:8080/"
        },
        "id": "HOVdYpnTisUZ",
        "outputId": "1056c41f-610c-4471-9e94-3478cbb03f43"
      },
      "execution_count": 7,
      "outputs": [
        {
          "output_type": "stream",
          "name": "stdout",
          "text": [
            "/content\n"
          ]
        }
      ]
    },
    {
      "cell_type": "code",
      "source": [
        " ! kaggle datasets list"
      ],
      "metadata": {
        "colab": {
          "base_uri": "https://localhost:8080/"
        },
        "id": "BPbaEjdohFja",
        "outputId": "6180d2db-d811-415a-f6b3-687a9689e4aa"
      },
      "execution_count": 8,
      "outputs": [
        {
          "output_type": "stream",
          "name": "stdout",
          "text": [
            "ref                                                           title                                           size  lastUpdated          downloadCount  voteCount  usabilityRating  \n",
            "------------------------------------------------------------  ---------------------------------------------  -----  -------------------  -------------  ---------  ---------------  \n",
            "salvatorerastelli/spotify-and-youtube                         Spotify and Youtube                              9MB  2023-03-20 15:43:25           2849        112  1.0              \n",
            "dgoenrique/netflix-movies-and-tv-shows                        Netflix Movies and TV Shows                      2MB  2023-03-13 18:49:00           1926         53  1.0              \n",
            "rajkumarpandey02/list-of-countries-by-gdp-sector-composition  List of Countries by GDP Sector Composition      8KB  2023-03-20 04:42:10           1540         56  1.0              \n",
            "datascientistanna/customers-dataset                           Shop Customer Data                              23KB  2023-02-07 18:42:21          16925        355  1.0              \n",
            "ajaypalsinghlo/world-happiness-report-2023                    World Happiness Report 2023                      7KB  2023-03-22 07:29:42           1249         36  0.9411765        \n",
            "amaanansari09/most-streamed-songs-all-time                    Most Streamed Songs (All Time)                   8KB  2023-03-08 10:56:24           3482         79  1.0              \n",
            "rkiattisak/student-performance-in-mathematics                 Student performance prediction                   9KB  2023-03-12 04:32:56           4165         89  1.0              \n",
            "darshanpatel3112/top-rated-movies-from-tmdb                   Top Rated Movies  from TMDB                      1MB  2023-03-22 12:56:39            734         31  1.0              \n",
            "usamabuttar/world-happiness-report-2005-present               World Happiness Report, 2005-Present           123KB  2023-03-25 17:38:26            961         29  1.0              \n",
            "arnabchaki/popular-video-games-1980-2023                      Popular Video Games 1980 - 2023 🎮                1MB  2023-03-23 16:16:51           1609         55  1.0              \n",
            "ramkrijal/tomato-daily-prices                                 Tomato Daily Prices                             10KB  2023-03-10 15:39:14           1851         55  1.0              \n",
            "themrityunjaypathak/covid-cases-and-deaths-worldwide          Covid Cases and Deaths WorldWide                 8KB  2023-02-01 12:22:51          16512        509  1.0              \n",
            "anandaramg/apartment-cost-in-new-york-city                    Housing Cost in New York                         1MB  2023-03-22 02:48:15            968         29  1.0              \n",
            "zusmani/pakistan-toshakhana-files                             Pakistan ToshaKhana Files                        1MB  2023-03-15 16:25:43           2557        132  1.0              \n",
            "mehmettahiraslan/customer-shopping-dataset                    Customer Shopping Dataset - Retail Sales Data    2MB  2023-03-09 07:44:35           2781         70  1.0              \n",
            "shreyajagani13/imdb-movies-data                               imdb movies data                                27KB  2023-03-15 04:26:49            875         29  1.0              \n",
            "thedevastator/airbnb-prices-in-european-cities                Airbnb Prices in European Cities                 4MB  2023-02-20 09:48:04           6683        110  1.0              \n",
            "arnabchaki/fitness-trackers-products-ecommerce                Fitness Trackers Products Ecommerce ⌚           14KB  2023-03-23 09:15:56            815         33  1.0              \n",
            "priyankkhanna/flipkart-product-dataset-by-priyank-khanna      Flipkart Product Dataset                         2MB  2023-03-03 13:44:42           1533         31  1.0              \n",
            "gianinamariapetrascu/top-250-anime-2023                       🍥 Top 250 Anime 2023                            10KB  2023-03-20 20:09:40            724         43  1.0              \n"
          ]
        }
      ]
    },
    {
      "cell_type": "code",
      "source": [
        "! kaggle datasets download 'mlg-ulb/creditcardfraud'"
      ],
      "metadata": {
        "colab": {
          "base_uri": "https://localhost:8080/"
        },
        "id": "zZhzCaONhTwh",
        "outputId": "c2c1ecdd-91a6-4040-fe99-2ab123b774a7"
      },
      "execution_count": 9,
      "outputs": [
        {
          "output_type": "stream",
          "name": "stdout",
          "text": [
            "Downloading creditcardfraud.zip to /content\n",
            " 99% 65.0M/66.0M [00:03<00:00, 24.5MB/s]\n",
            "100% 66.0M/66.0M [00:03<00:00, 17.7MB/s]\n"
          ]
        }
      ]
    },
    {
      "cell_type": "code",
      "source": [
        "!unzip creditcardfraud.zip"
      ],
      "metadata": {
        "colab": {
          "base_uri": "https://localhost:8080/"
        },
        "id": "qbglResxjK-J",
        "outputId": "86ad1156-6c15-4608-a67b-892e214e3265"
      },
      "execution_count": 10,
      "outputs": [
        {
          "output_type": "stream",
          "name": "stdout",
          "text": [
            "Archive:  creditcardfraud.zip\n",
            "  inflating: creditcard.csv          \n"
          ]
        }
      ]
    },
    {
      "cell_type": "markdown",
      "source": [
        "# Load the dataset"
      ],
      "metadata": {
        "id": "j9LaZAHM8iBu"
      }
    },
    {
      "cell_type": "code",
      "source": [
        "import pandas as pd\n",
        "\n",
        "data = pd.read_csv(\"creditcard.csv\")"
      ],
      "metadata": {
        "id": "3mkRvw6tjapx"
      },
      "execution_count": 11,
      "outputs": []
    },
    {
      "cell_type": "markdown",
      "source": [
        "# Train a sequential neural network on the dataset"
      ],
      "metadata": {
        "id": "wx6eLovJkbHh"
      }
    },
    {
      "cell_type": "code",
      "source": [
        "import numpy as np\n",
        "from keras.models import Sequential\n",
        "from keras.layers import Dense\n",
        "from sklearn.model_selection import train_test_split\n",
        "from sklearn.metrics import confusion_matrix, precision_recall_curve, auc, f1_score, recall_score, precision_score, accuracy_score\n",
        "from imblearn.over_sampling import SMOTE\n",
        "from sklearn.preprocessing import StandardScaler\n"
      ],
      "metadata": {
        "id": "RJFfnDGekk4Z"
      },
      "execution_count": 12,
      "outputs": []
    },
    {
      "cell_type": "code",
      "source": [
        "X = data.iloc[:, :-1].values\n",
        "y = data.iloc[:, -1].values\n",
        "\n",
        "# Split data into training and testing sets\n",
        "X_train, X_test, y_train, y_test = train_test_split(X, y, stratify=y, test_size=0.2, random_state=42)"
      ],
      "metadata": {
        "id": "vHtBHGZvl_VC"
      },
      "execution_count": 13,
      "outputs": []
    },
    {
      "cell_type": "code",
      "source": [
        "scaler = StandardScaler()\n",
        "X_train = scaler.fit_transform(X_train)\n",
        "X_test= scaler.transform(X_test)"
      ],
      "metadata": {
        "id": "QWIOBCR48-uw"
      },
      "execution_count": 14,
      "outputs": []
    },
    {
      "cell_type": "code",
      "source": [
        "print(X_test.shape)\n",
        "print(X_train.shape)"
      ],
      "metadata": {
        "colab": {
          "base_uri": "https://localhost:8080/"
        },
        "id": "KS_6280jp8Vz",
        "outputId": "0ad97fa9-cc40-41c5-ce7d-49058916b1bc"
      },
      "execution_count": 15,
      "outputs": [
        {
          "output_type": "stream",
          "name": "stdout",
          "text": [
            "(56962, 30)\n",
            "(227845, 30)\n"
          ]
        }
      ]
    },
    {
      "cell_type": "code",
      "source": [
        "class_weight = {1: 0.9, 0: .1}# We assign a weight for target classes to handle imbalance.\n",
        "\n",
        "# Define the Keras model: 2 hidden layer and an output layer\n",
        "model = Sequential()\n",
        "model.add(Dense(32, input_dim=X.shape[1], activation='relu'))\n",
        "model.add(Dense(16, activation='relu'))\n",
        "model.add(Dense(1, activation='sigmoid'))#The sigmoid activation function is commonly used for binary classification tasks because it maps the output of the neural network to a value between 0 and \n",
        "\n",
        "# Compile the model\n",
        "model.compile(loss='binary_crossentropy', optimizer='adam', metrics=['accuracy'])\n",
        "\n",
        "# Train the model\n",
        "history = model.fit(X_train, y_train, epochs=10, batch_size=32, validation_data=(X_test, y_test), class_weight = class_weight)\n"
      ],
      "metadata": {
        "colab": {
          "base_uri": "https://localhost:8080/"
        },
        "id": "Ryjs6SCojtTY",
        "outputId": "9d92bbb3-f4c3-4bd2-d0e0-ba023ad58038"
      },
      "execution_count": 16,
      "outputs": [
        {
          "output_type": "stream",
          "name": "stdout",
          "text": [
            "Epoch 1/10\n",
            "7121/7121 [==============================] - 45s 5ms/step - loss: 0.0027 - accuracy: 0.9982 - val_loss: 0.0056 - val_accuracy: 0.9992\n",
            "Epoch 2/10\n",
            "7121/7121 [==============================] - 31s 4ms/step - loss: 0.0015 - accuracy: 0.9991 - val_loss: 0.0045 - val_accuracy: 0.9991\n",
            "Epoch 3/10\n",
            "7121/7121 [==============================] - 34s 5ms/step - loss: 0.0013 - accuracy: 0.9991 - val_loss: 0.0036 - val_accuracy: 0.9992\n",
            "Epoch 4/10\n",
            "7121/7121 [==============================] - 30s 4ms/step - loss: 0.0013 - accuracy: 0.9991 - val_loss: 0.0075 - val_accuracy: 0.9986\n",
            "Epoch 5/10\n",
            "7121/7121 [==============================] - 32s 4ms/step - loss: 0.0012 - accuracy: 0.9991 - val_loss: 0.0060 - val_accuracy: 0.9989\n",
            "Epoch 6/10\n",
            "7121/7121 [==============================] - 30s 4ms/step - loss: 0.0011 - accuracy: 0.9992 - val_loss: 0.0045 - val_accuracy: 0.9989\n",
            "Epoch 7/10\n",
            "7121/7121 [==============================] - 32s 4ms/step - loss: 0.0011 - accuracy: 0.9992 - val_loss: 0.0058 - val_accuracy: 0.9988\n",
            "Epoch 8/10\n",
            "7121/7121 [==============================] - 30s 4ms/step - loss: 9.5365e-04 - accuracy: 0.9992 - val_loss: 0.0054 - val_accuracy: 0.9986\n",
            "Epoch 9/10\n",
            "7121/7121 [==============================] - 29s 4ms/step - loss: 9.4003e-04 - accuracy: 0.9992 - val_loss: 0.0051 - val_accuracy: 0.9989\n",
            "Epoch 10/10\n",
            "7121/7121 [==============================] - 32s 4ms/step - loss: 8.8787e-04 - accuracy: 0.9992 - val_loss: 0.0052 - val_accuracy: 0.9990\n"
          ]
        }
      ]
    },
    {
      "cell_type": "code",
      "source": [
        "loss, accuracy = model.evaluate(X_test, y_test)\n",
        "print('Test Loss:', loss)\n",
        "print('Test Accuracy:', accuracy)"
      ],
      "metadata": {
        "colab": {
          "base_uri": "https://localhost:8080/"
        },
        "id": "jmTc9vgQ9wiF",
        "outputId": "f6d95fd4-fa5c-4351-9f8f-2ab5b19d5567"
      },
      "execution_count": 17,
      "outputs": [
        {
          "output_type": "stream",
          "name": "stdout",
          "text": [
            "1781/1781 [==============================] - 4s 2ms/step - loss: 0.0052 - accuracy: 0.9990\n",
            "Test Loss: 0.005198524799197912\n",
            "Test Accuracy: 0.9990344643592834\n"
          ]
        }
      ]
    },
    {
      "cell_type": "code",
      "source": [
        "prob_X_test=model.predict(X_test)\n",
        "prob_X_train=model.predict(X_train) \n",
        "\n",
        "label_train=np.argmax(prob_X_train,axis=1)\n",
        "label_test= np.argmax(prob_X_test, axis =1)"
      ],
      "metadata": {
        "colab": {
          "base_uri": "https://localhost:8080/"
        },
        "id": "unCuHwaOyR4M",
        "outputId": "6b0121e6-2b2f-4467-922a-922bba48f880"
      },
      "execution_count": 18,
      "outputs": [
        {
          "output_type": "stream",
          "name": "stdout",
          "text": [
            "1781/1781 [==============================] - 3s 2ms/step\n",
            "7121/7121 [==============================] - 11s 2ms/step\n"
          ]
        }
      ]
    },
    {
      "cell_type": "code",
      "source": [
        "train_performance1 = []\n",
        "test_performance1 = []\n",
        "\n",
        "metrics_list = [accuracy_score,precision_score, recall_score, f1_score ]\n",
        "for m in metrics_list:\n",
        "    train_performance1.append(m(y_train,label_train))\n",
        "    test_performance1.append(m(y_test,label_test))\n",
        "\n",
        "\n",
        "performance_df1 = pd.DataFrame([train_performance1,test_performance1], columns=['accuracy', 'precision', 'recall', 'f1'], index= ['trian','test'])\n",
        "performance_df1\n"
      ],
      "metadata": {
        "colab": {
          "base_uri": "https://localhost:8080/",
          "height": 204
        },
        "id": "fOu-Exlfy1Li",
        "outputId": "ec6dc536-686b-4bdd-e74b-963624d2fcd4"
      },
      "execution_count": 35,
      "outputs": [
        {
          "output_type": "stream",
          "name": "stderr",
          "text": [
            "/usr/local/lib/python3.9/dist-packages/sklearn/metrics/_classification.py:1344: UndefinedMetricWarning: Precision is ill-defined and being set to 0.0 due to no predicted samples. Use `zero_division` parameter to control this behavior.\n",
            "  _warn_prf(average, modifier, msg_start, len(result))\n",
            "/usr/local/lib/python3.9/dist-packages/sklearn/metrics/_classification.py:1344: UndefinedMetricWarning: Precision is ill-defined and being set to 0.0 due to no predicted samples. Use `zero_division` parameter to control this behavior.\n",
            "  _warn_prf(average, modifier, msg_start, len(result))\n"
          ]
        },
        {
          "output_type": "execute_result",
          "data": {
            "text/plain": [
              "       accuracy  precision  recall   f1\n",
              "trian  0.998271        0.0     0.0  0.0\n",
              "test   0.998280        0.0     0.0  0.0"
            ],
            "text/html": [
              "\n",
              "  <div id=\"df-b085c137-c174-48df-b142-612b6cec8a28\">\n",
              "    <div class=\"colab-df-container\">\n",
              "      <div>\n",
              "<style scoped>\n",
              "    .dataframe tbody tr th:only-of-type {\n",
              "        vertical-align: middle;\n",
              "    }\n",
              "\n",
              "    .dataframe tbody tr th {\n",
              "        vertical-align: top;\n",
              "    }\n",
              "\n",
              "    .dataframe thead th {\n",
              "        text-align: right;\n",
              "    }\n",
              "</style>\n",
              "<table border=\"1\" class=\"dataframe\">\n",
              "  <thead>\n",
              "    <tr style=\"text-align: right;\">\n",
              "      <th></th>\n",
              "      <th>accuracy</th>\n",
              "      <th>precision</th>\n",
              "      <th>recall</th>\n",
              "      <th>f1</th>\n",
              "    </tr>\n",
              "  </thead>\n",
              "  <tbody>\n",
              "    <tr>\n",
              "      <th>trian</th>\n",
              "      <td>0.998271</td>\n",
              "      <td>0.0</td>\n",
              "      <td>0.0</td>\n",
              "      <td>0.0</td>\n",
              "    </tr>\n",
              "    <tr>\n",
              "      <th>test</th>\n",
              "      <td>0.998280</td>\n",
              "      <td>0.0</td>\n",
              "      <td>0.0</td>\n",
              "      <td>0.0</td>\n",
              "    </tr>\n",
              "  </tbody>\n",
              "</table>\n",
              "</div>\n",
              "      <button class=\"colab-df-convert\" onclick=\"convertToInteractive('df-b085c137-c174-48df-b142-612b6cec8a28')\"\n",
              "              title=\"Convert this dataframe to an interactive table.\"\n",
              "              style=\"display:none;\">\n",
              "        \n",
              "  <svg xmlns=\"http://www.w3.org/2000/svg\" height=\"24px\"viewBox=\"0 0 24 24\"\n",
              "       width=\"24px\">\n",
              "    <path d=\"M0 0h24v24H0V0z\" fill=\"none\"/>\n",
              "    <path d=\"M18.56 5.44l.94 2.06.94-2.06 2.06-.94-2.06-.94-.94-2.06-.94 2.06-2.06.94zm-11 1L8.5 8.5l.94-2.06 2.06-.94-2.06-.94L8.5 2.5l-.94 2.06-2.06.94zm10 10l.94 2.06.94-2.06 2.06-.94-2.06-.94-.94-2.06-.94 2.06-2.06.94z\"/><path d=\"M17.41 7.96l-1.37-1.37c-.4-.4-.92-.59-1.43-.59-.52 0-1.04.2-1.43.59L10.3 9.45l-7.72 7.72c-.78.78-.78 2.05 0 2.83L4 21.41c.39.39.9.59 1.41.59.51 0 1.02-.2 1.41-.59l7.78-7.78 2.81-2.81c.8-.78.8-2.07 0-2.86zM5.41 20L4 18.59l7.72-7.72 1.47 1.35L5.41 20z\"/>\n",
              "  </svg>\n",
              "      </button>\n",
              "      \n",
              "  <style>\n",
              "    .colab-df-container {\n",
              "      display:flex;\n",
              "      flex-wrap:wrap;\n",
              "      gap: 12px;\n",
              "    }\n",
              "\n",
              "    .colab-df-convert {\n",
              "      background-color: #E8F0FE;\n",
              "      border: none;\n",
              "      border-radius: 50%;\n",
              "      cursor: pointer;\n",
              "      display: none;\n",
              "      fill: #1967D2;\n",
              "      height: 32px;\n",
              "      padding: 0 0 0 0;\n",
              "      width: 32px;\n",
              "    }\n",
              "\n",
              "    .colab-df-convert:hover {\n",
              "      background-color: #E2EBFA;\n",
              "      box-shadow: 0px 1px 2px rgba(60, 64, 67, 0.3), 0px 1px 3px 1px rgba(60, 64, 67, 0.15);\n",
              "      fill: #174EA6;\n",
              "    }\n",
              "\n",
              "    [theme=dark] .colab-df-convert {\n",
              "      background-color: #3B4455;\n",
              "      fill: #D2E3FC;\n",
              "    }\n",
              "\n",
              "    [theme=dark] .colab-df-convert:hover {\n",
              "      background-color: #434B5C;\n",
              "      box-shadow: 0px 1px 3px 1px rgba(0, 0, 0, 0.15);\n",
              "      filter: drop-shadow(0px 1px 2px rgba(0, 0, 0, 0.3));\n",
              "      fill: #FFFFFF;\n",
              "    }\n",
              "  </style>\n",
              "\n",
              "      <script>\n",
              "        const buttonEl =\n",
              "          document.querySelector('#df-b085c137-c174-48df-b142-612b6cec8a28 button.colab-df-convert');\n",
              "        buttonEl.style.display =\n",
              "          google.colab.kernel.accessAllowed ? 'block' : 'none';\n",
              "\n",
              "        async function convertToInteractive(key) {\n",
              "          const element = document.querySelector('#df-b085c137-c174-48df-b142-612b6cec8a28');\n",
              "          const dataTable =\n",
              "            await google.colab.kernel.invokeFunction('convertToInteractive',\n",
              "                                                     [key], {});\n",
              "          if (!dataTable) return;\n",
              "\n",
              "          const docLinkHtml = 'Like what you see? Visit the ' +\n",
              "            '<a target=\"_blank\" href=https://colab.research.google.com/notebooks/data_table.ipynb>data table notebook</a>'\n",
              "            + ' to learn more about interactive tables.';\n",
              "          element.innerHTML = '';\n",
              "          dataTable['output_type'] = 'display_data';\n",
              "          await google.colab.output.renderOutput(dataTable, element);\n",
              "          const docLink = document.createElement('div');\n",
              "          docLink.innerHTML = docLinkHtml;\n",
              "          element.appendChild(docLink);\n",
              "        }\n",
              "      </script>\n",
              "    </div>\n",
              "  </div>\n",
              "  "
            ]
          },
          "metadata": {},
          "execution_count": 35
        }
      ]
    },
    {
      "cell_type": "code",
      "source": [
        "import matplotlib.pyplot as plt\n",
        "import numpy\n",
        "from sklearn import metrics\n",
        "from matplotlib.pyplot import figure, gcf\n",
        "\n",
        "\n",
        "fig, ax = plt.subplots(1,2)\n",
        "\n",
        "fig = gcf()\n",
        "fig.set_size_inches(15, 10)\n",
        "#fig.savefig('test2png.png', dpi=100)\n",
        "\n",
        "cm_train_display = metrics.ConfusionMatrixDisplay.from_predictions(y_train, label_train, ax= ax[0])#display_labels = [False, True])\n",
        "\n",
        "cm_test_display = metrics.ConfusionMatrixDisplay.from_predictions(y_test, label_test, ax = ax[1] )#display_labels = [False, True])\n",
        "\n",
        "#plt.subplot(1)\n",
        "#cm_train_display.plot()\n",
        "#print(cm_train_display.ax_)\n",
        "#plt.title(\"trian\")\n",
        "\n",
        "#plt.subplot(1,2,2)\n",
        "#cm_test_display.plot()\n",
        "#plt.title(\"test\")\n",
        "\n",
        "cm_train_display.confusion_matrix\n",
        "cm_test_display.confusion_matrix\n",
        "plt.show()\n"
      ],
      "metadata": {
        "colab": {
          "base_uri": "https://localhost:8080/",
          "height": 815
        },
        "id": "fx8V-h5a1X3C",
        "outputId": "ffaa61d4-c59c-42df-b8a5-e808b0cdbf95"
      },
      "execution_count": 20,
      "outputs": [
        {
          "output_type": "display_data",
          "data": {
            "text/plain": [
              "<Figure size 1500x1000 with 4 Axes>"
            ],
            "image/png": "[encoded data removed]"
          },
          "metadata": {}
        }
      ]
    },
    {
      "cell_type": "code",
      "source": [
        "import matplotlib.pyplot as plt\n",
        "\n",
        "\n",
        "# summarize history for accuracy\n",
        "plt.plot(history.history['accuracy'])\n",
        "plt.plot(history.history['val_accuracy'])\n",
        "plt.title('Model Accuracy')\n",
        "plt.ylabel('Accuracy')\n",
        "plt.xlabel('Epoch')\n",
        "plt.legend(['train', 'val'], loc='upper left')\n",
        "plt.show()\n",
        "\n",
        "# summarize history for loss\n",
        "plt.plot(history.history['loss'])\n",
        "plt.plot(history.history['val_loss'])\n",
        "plt.title('Model Loss')\n",
        "plt.ylabel('Loss')\n",
        "plt.xlabel('Epoch')\n",
        "plt.legend(['train', 'val'], loc='upper left')\n",
        "plt.show()\n"
      ],
      "metadata": {
        "colab": {
          "base_uri": "https://localhost:8080/",
          "height": 927
        },
        "id": "QgfRhAD-9209",
        "outputId": "94ba8eda-c86e-4fe8-ad7c-2ad670164429"
      },
      "execution_count": 22,
      "outputs": [
        {
          "output_type": "display_data",
          "data": {
            "text/plain": [
              "<Figure size 640x480 with 1 Axes>"
            ],
            "image/png": "[encoded data removed]"
          },
          "metadata": {}
        },
        {
          "output_type": "display_data",
          "data": {
            "text/plain": [
              "<Figure size 640x480 with 1 Axes>"
            ],
            "image/png": "[encoded data removed]"
          },
          "metadata": {}
        }
      ]
    },
    {
      "cell_type": "markdown",
      "source": [
        "# Handle the imbalanced issue using oversampling"
      ],
      "metadata": {
        "id": "rM_BkvSQm92J"
      }
    },
    {
      "cell_type": "code",
      "source": [
        "\n",
        "oversample = SMOTE()\n",
        "X_train, y_train = oversample.fit_resample(X_train, y_train)"
      ],
      "metadata": {
        "id": "Mz1vgJAWm7qJ"
      },
      "execution_count": 23,
      "outputs": []
    },
    {
      "cell_type": "code",
      "source": [
        "sum(y_train==1)"
      ],
      "metadata": {
        "colab": {
          "base_uri": "https://localhost:8080/"
        },
        "id": "nyLchZI_nOAY",
        "outputId": "aa2befd6-a9ca-4cce-a055-a28c2c8b59ed"
      },
      "execution_count": 24,
      "outputs": [
        {
          "output_type": "execute_result",
          "data": {
            "text/plain": [
              "227451"
            ]
          },
          "metadata": {},
          "execution_count": 24
        }
      ]
    },
    {
      "cell_type": "code",
      "source": [
        "class_weight = {1: 0.9, 0: .1}# We assign a weight for target classes to handle imbalance.\n",
        "\n",
        "# Define the Keras model: 2 hidden layer and an output layer\n",
        "model = Sequential()\n",
        "model.add(Dense(32, input_dim=X.shape[1], activation='relu'))\n",
        "model.add(Dense(16, activation='relu'))\n",
        "model.add(Dense(1, activation='sigmoid'))#The sigmoid activation function is commonly used for binary classification tasks because it maps the output of the neural network to a value between 0 and \n",
        "\n",
        "# Compile the model\n",
        "model.compile(loss='binary_crossentropy', optimizer='adam', metrics=['accuracy'])\n",
        "\n",
        "# Train the model\n",
        "model.fit(X_train, y_train, epochs=10, batch_size=32, validation_data=(X_test, y_test), class_weight = class_weight)\n"
      ],
      "metadata": {
        "colab": {
          "base_uri": "https://localhost:8080/"
        },
        "outputId": "93a4a94b-7cd8-4103-9eb3-af7fc47f6e1c",
        "id": "NQxHM2IWoUQi"
      },
      "execution_count": 25,
      "outputs": [
        {
          "output_type": "stream",
          "name": "stdout",
          "text": [
            "Epoch 1/10\n",
            "14216/14216 [==============================] - 58s 4ms/step - loss: 0.0074 - accuracy: 0.9791 - val_loss: 0.0334 - val_accuracy: 0.9924\n",
            "Epoch 2/10\n",
            "14216/14216 [==============================] - 55s 4ms/step - loss: 0.0015 - accuracy: 0.9972 - val_loss: 0.0205 - val_accuracy: 0.9961\n",
            "Epoch 3/10\n",
            "14216/14216 [==============================] - 55s 4ms/step - loss: 9.9532e-04 - accuracy: 0.9982 - val_loss: 0.0173 - val_accuracy: 0.9973\n",
            "Epoch 4/10\n",
            "14216/14216 [==============================] - 57s 4ms/step - loss: 7.7180e-04 - accuracy: 0.9987 - val_loss: 0.0164 - val_accuracy: 0.9977\n",
            "Epoch 5/10\n",
            "14216/14216 [==============================] - 64s 5ms/step - loss: 6.9891e-04 - accuracy: 0.9988 - val_loss: 0.0151 - val_accuracy: 0.9981\n",
            "Epoch 6/10\n",
            "14216/14216 [==============================] - 60s 4ms/step - loss: 6.2369e-04 - accuracy: 0.9990 - val_loss: 0.0336 - val_accuracy: 0.9958\n",
            "Epoch 7/10\n",
            "14216/14216 [==============================] - 54s 4ms/step - loss: 5.5167e-04 - accuracy: 0.9992 - val_loss: 0.0387 - val_accuracy: 0.9944\n",
            "Epoch 8/10\n",
            "14216/14216 [==============================] - 54s 4ms/step - loss: 4.9874e-04 - accuracy: 0.9992 - val_loss: 0.0183 - val_accuracy: 0.9984\n",
            "Epoch 9/10\n",
            "14216/14216 [==============================] - 58s 4ms/step - loss: 4.9442e-04 - accuracy: 0.9993 - val_loss: 0.0289 - val_accuracy: 0.9966\n",
            "Epoch 10/10\n",
            "14216/14216 [==============================] - 55s 4ms/step - loss: 3.9976e-04 - accuracy: 0.9994 - val_loss: 0.0189 - val_accuracy: 0.9984\n"
          ]
        },
        {
          "output_type": "execute_result",
          "data": {
            "text/plain": [
              "<keras.callbacks.History at 0x7f428053f3a0>"
            ]
          },
          "metadata": {},
          "execution_count": 25
        }
      ]
    },
    {
      "cell_type": "code",
      "source": [
        "prob_X_test=model.predict(X_test)\n",
        "prob_X_train=model.predict(X_train) \n",
        "\n",
        "label_train=np.argmax(prob_X_train,axis=1)\n",
        "label_test= np.argmax(prob_X_test, axis =1)"
      ],
      "metadata": {
        "colab": {
          "base_uri": "https://localhost:8080/"
        },
        "id": "skkk1hgwsNDQ",
        "outputId": "3721e9c0-c306-4bd7-e8ca-8f05fdc5e9b9"
      },
      "execution_count": 26,
      "outputs": [
        {
          "output_type": "stream",
          "name": "stdout",
          "text": [
            "1781/1781 [==============================] - 3s 1ms/step\n",
            "14216/14216 [==============================] - 22s 2ms/step\n"
          ]
        }
      ]
    },
    {
      "cell_type": "code",
      "source": [
        "train_performance1 = []\n",
        "test_performance1 = []\n",
        "\n",
        "metrics_list = [accuracy_score,precision_score, recall_score, f1_score ]\n",
        "for m in metrics_list:\n",
        "    train_performance1.append(m(y_train,label_train))\n",
        "    test_performance1.append(m(y_test,label_test))\n",
        "\n",
        "\n",
        "performance_df1 = pd.DataFrame([train_performance1,test_performance1], columns=['accuracy', 'precision', 'recall', 'f1'], index= ['trian','test'])\n",
        "performance_df1"
      ],
      "metadata": {
        "colab": {
          "base_uri": "https://localhost:8080/",
          "height": 204
        },
        "id": "7Ju9Tb9hqNGq",
        "outputId": "726a66d1-ed75-4fd5-d829-bd6c482c4f55"
      },
      "execution_count": 27,
      "outputs": [
        {
          "output_type": "stream",
          "name": "stderr",
          "text": [
            "/usr/local/lib/python3.9/dist-packages/sklearn/metrics/_classification.py:1344: UndefinedMetricWarning: Precision is ill-defined and being set to 0.0 due to no predicted samples. Use `zero_division` parameter to control this behavior.\n",
            "  _warn_prf(average, modifier, msg_start, len(result))\n",
            "/usr/local/lib/python3.9/dist-packages/sklearn/metrics/_classification.py:1344: UndefinedMetricWarning: Precision is ill-defined and being set to 0.0 due to no predicted samples. Use `zero_division` parameter to control this behavior.\n",
            "  _warn_prf(average, modifier, msg_start, len(result))\n"
          ]
        },
        {
          "output_type": "execute_result",
          "data": {
            "text/plain": [
              "       accuracy  precision  recall   f1\n",
              "trian   0.50000        0.0     0.0  0.0\n",
              "test    0.99828        0.0     0.0  0.0"
            ],
            "text/html": [
              "\n",
              "  <div id=\"df-509d4bf3-1126-4e69-aced-e31352db9124\">\n",
              "    <div class=\"colab-df-container\">\n",
              "      <div>\n",
              "<style scoped>\n",
              "    .dataframe tbody tr th:only-of-type {\n",
              "        vertical-align: middle;\n",
              "    }\n",
              "\n",
              "    .dataframe tbody tr th {\n",
              "        vertical-align: top;\n",
              "    }\n",
              "\n",
              "    .dataframe thead th {\n",
              "        text-align: right;\n",
              "    }\n",
              "</style>\n",
              "<table border=\"1\" class=\"dataframe\">\n",
              "  <thead>\n",
              "    <tr style=\"text-align: right;\">\n",
              "      <th></th>\n",
              "      <th>accuracy</th>\n",
              "      <th>precision</th>\n",
              "      <th>recall</th>\n",
              "      <th>f1</th>\n",
              "    </tr>\n",
              "  </thead>\n",
              "  <tbody>\n",
              "    <tr>\n",
              "      <th>trian</th>\n",
              "      <td>0.50000</td>\n",
              "      <td>0.0</td>\n",
              "      <td>0.0</td>\n",
              "      <td>0.0</td>\n",
              "    </tr>\n",
              "    <tr>\n",
              "      <th>test</th>\n",
              "      <td>0.99828</td>\n",
              "      <td>0.0</td>\n",
              "      <td>0.0</td>\n",
              "      <td>0.0</td>\n",
              "    </tr>\n",
              "  </tbody>\n",
              "</table>\n",
              "</div>\n",
              "      <button class=\"colab-df-convert\" onclick=\"convertToInteractive('df-509d4bf3-1126-4e69-aced-e31352db9124')\"\n",
              "              title=\"Convert this dataframe to an interactive table.\"\n",
              "              style=\"display:none;\">\n",
              "        \n",
              "  <svg xmlns=\"http://www.w3.org/2000/svg\" height=\"24px\"viewBox=\"0 0 24 24\"\n",
              "       width=\"24px\">\n",
              "    <path d=\"M0 0h24v24H0V0z\" fill=\"none\"/>\n",
              "    <path d=\"M18.56 5.44l.94 2.06.94-2.06 2.06-.94-2.06-.94-.94-2.06-.94 2.06-2.06.94zm-11 1L8.5 8.5l.94-2.06 2.06-.94-2.06-.94L8.5 2.5l-.94 2.06-2.06.94zm10 10l.94 2.06.94-2.06 2.06-.94-2.06-.94-.94-2.06-.94 2.06-2.06.94z\"/><path d=\"M17.41 7.96l-1.37-1.37c-.4-.4-.92-.59-1.43-.59-.52 0-1.04.2-1.43.59L10.3 9.45l-7.72 7.72c-.78.78-.78 2.05 0 2.83L4 21.41c.39.39.9.59 1.41.59.51 0 1.02-.2 1.41-.59l7.78-7.78 2.81-2.81c.8-.78.8-2.07 0-2.86zM5.41 20L4 18.59l7.72-7.72 1.47 1.35L5.41 20z\"/>\n",
              "  </svg>\n",
              "      </button>\n",
              "      \n",
              "  <style>\n",
              "    .colab-df-container {\n",
              "      display:flex;\n",
              "      flex-wrap:wrap;\n",
              "      gap: 12px;\n",
              "    }\n",
              "\n",
              "    .colab-df-convert {\n",
              "      background-color: #E8F0FE;\n",
              "      border: none;\n",
              "      border-radius: 50%;\n",
              "      cursor: pointer;\n",
              "      display: none;\n",
              "      fill: #1967D2;\n",
              "      height: 32px;\n",
              "      padding: 0 0 0 0;\n",
              "      width: 32px;\n",
              "    }\n",
              "\n",
              "    .colab-df-convert:hover {\n",
              "      background-color: #E2EBFA;\n",
              "      box-shadow: 0px 1px 2px rgba(60, 64, 67, 0.3), 0px 1px 3px 1px rgba(60, 64, 67, 0.15);\n",
              "      fill: #174EA6;\n",
              "    }\n",
              "\n",
              "    [theme=dark] .colab-df-convert {\n",
              "      background-color: #3B4455;\n",
              "      fill: #D2E3FC;\n",
              "    }\n",
              "\n",
              "    [theme=dark] .colab-df-convert:hover {\n",
              "      background-color: #434B5C;\n",
              "      box-shadow: 0px 1px 3px 1px rgba(0, 0, 0, 0.15);\n",
              "      filter: drop-shadow(0px 1px 2px rgba(0, 0, 0, 0.3));\n",
              "      fill: #FFFFFF;\n",
              "    }\n",
              "  </style>\n",
              "\n",
              "      <script>\n",
              "        const buttonEl =\n",
              "          document.querySelector('#df-509d4bf3-1126-4e69-aced-e31352db9124 button.colab-df-convert');\n",
              "        buttonEl.style.display =\n",
              "          google.colab.kernel.accessAllowed ? 'block' : 'none';\n",
              "\n",
              "        async function convertToInteractive(key) {\n",
              "          const element = document.querySelector('#df-509d4bf3-1126-4e69-aced-e31352db9124');\n",
              "          const dataTable =\n",
              "            await google.colab.kernel.invokeFunction('convertToInteractive',\n",
              "                                                     [key], {});\n",
              "          if (!dataTable) return;\n",
              "\n",
              "          const docLinkHtml = 'Like what you see? Visit the ' +\n",
              "            '<a target=\"_blank\" href=https://colab.research.google.com/notebooks/data_table.ipynb>data table notebook</a>'\n",
              "            + ' to learn more about interactive tables.';\n",
              "          element.innerHTML = '';\n",
              "          dataTable['output_type'] = 'display_data';\n",
              "          await google.colab.output.renderOutput(dataTable, element);\n",
              "          const docLink = document.createElement('div');\n",
              "          docLink.innerHTML = docLinkHtml;\n",
              "          element.appendChild(docLink);\n",
              "        }\n",
              "      </script>\n",
              "    </div>\n",
              "  </div>\n",
              "  "
            ]
          },
          "metadata": {},
          "execution_count": 27
        }
      ]
    },
    {
      "cell_type": "code",
      "source": [
        "import matplotlib.pyplot as plt\n",
        "import numpy\n",
        "from sklearn import metrics\n",
        "from matplotlib.pyplot import figure, gcf\n",
        "\n",
        "\n",
        "fig, ax = plt.subplots(1,2)\n",
        "\n",
        "fig = gcf()\n",
        "fig.set_size_inches(15, 10)\n",
        "#fig.savefig('test2png.png', dpi=100)\n",
        "\n",
        "cm_train_display = metrics.ConfusionMatrixDisplay.from_predictions(y_train, label_train, ax= ax[0])#display_labels = [False, True])\n",
        "\n",
        "cm_test_display = metrics.ConfusionMatrixDisplay.from_predictions(y_test, label_test, ax = ax[1] )#display_labels = [False, True])\n",
        "\n",
        "#plt.subplot(1)\n",
        "#cm_train_display.plot()\n",
        "#print(cm_train_display.ax_)\n",
        "#plt.title(\"trian\")\n",
        "\n",
        "#plt.subplot(1,2,2)\n",
        "#cm_test_display.plot()\n",
        "#plt.title(\"test\")\n",
        "\n",
        "cm_train_display.confusion_matrix\n",
        "cm_test_display.confusion_matrix\n",
        "plt.show()"
      ],
      "metadata": {
        "colab": {
          "base_uri": "https://localhost:8080/",
          "height": 815
        },
        "id": "tzG5CrwOqQ8P",
        "outputId": "4fe3a550-01e7-4244-b543-72fc6ea8f635"
      },
      "execution_count": 28,
      "outputs": [
        {
          "output_type": "display_data",
          "data": {
            "text/plain": [
              "<Figure size 1500x1000 with 4 Axes>"
            ],
            "image/png": "[encoded data removed]"
          },
          "metadata": {}
        }
      ]
    },
    {
      "cell_type": "markdown",
      "source": [
        "#Handle imbanace data using **Focal loss**\n"
      ],
      "metadata": {
        "id": "lzR7DCK1Cz8m"
      }
    },
    {
      "cell_type": "markdown",
      "source": [
        "**Focal loss** is a type of loss function used in machine learning for imbalanced classification tasks, where the number of samples in one class is much larger than the other class. In such cases, the model may have a bias towards the majority class, resulting in poor performance on the minority class.\n",
        "\n",
        "Focal loss was introduced in the paper \"Focal Loss for Dense Object Detection\" by Lin et al. in 2017, and it addresses the problem of class imbalance by downweighting the loss assigned to well-classified examples. This is achieved by introducing a modulating factor to the cross-entropy loss function, which decreases as the model becomes more confident in its predictions.\n",
        "\n",
        "Focal loss has been shown to be effective in improving the performance of deep learning models on imbalanced classification tasks, particularly in the field of object detection, where the number of background examples is typically much larger than the number of foreground examples."
      ],
      "metadata": {
        "id": "nPHOOSbGprEg"
      }
    },
    {
      "cell_type": "code",
      "source": [
        "X = data.iloc[:, :-1].values\n",
        "y = data.iloc[:, -1].values\n",
        "\n",
        "# Split data into training and testing sets\n",
        "X_train, X_test, y_train, y_test = train_test_split(X, y, stratify=y, test_size=0.2, random_state=42)"
      ],
      "metadata": {
        "id": "ybTgvN3xs5uP"
      },
      "execution_count": 29,
      "outputs": []
    },
    {
      "cell_type": "code",
      "source": [
        "scaler = StandardScaler()\n",
        "X_train = scaler.fit_transform(X_train)\n",
        "X_test= scaler.transform(X_test)"
      ],
      "metadata": {
        "id": "FLmhJFCI9a-1"
      },
      "execution_count": 30,
      "outputs": []
    },
    {
      "cell_type": "code",
      "source": [
        "from keras import backend as K\n",
        "import tensorflow as tf\n",
        "\n",
        "def focal_loss(gamma=2., alpha=0.25):\n",
        "    def focal_loss_fixed(y_true, y_pred):\n",
        "      pt_1 = tf.where(tf.equal(y_true, 1), y_pred, tf.ones_like(y_pred))\n",
        "      pt_0 = tf.where(tf.equal(y_true, 0), y_pred, tf.zeros_like(y_pred))\n",
        "      loss = -K.sum(alpha * K.pow(1. - pt_1, gamma) * K.log(pt_1))-K.sum((1-alpha) * K.pow( pt_0, gamma) * K.log(1. - pt_0))\n",
        "      return loss\n",
        "    return focal_loss_fixed \n",
        "\n",
        "model.compile(optimizer='adam', loss=focal_loss(gamma=2., alpha=0.25), metrics=['accuracy', tf.keras.metrics.Precision(), tf.keras.metrics.Recall(), tf.keras.metrics.AUC()])\n",
        "model.fit(X_train, y_train, epochs=15, batch_size=32, validation_data=(X_test, y_test), class_weight = class_weight)"
      ],
      "metadata": {
        "colab": {
          "base_uri": "https://localhost:8080/"
        },
        "id": "WxoaA63iCqbX",
        "outputId": "64337b5c-f85b-4517-add7-87693bb741f7"
      },
      "execution_count": 31,
      "outputs": [
        {
          "output_type": "stream",
          "name": "stdout",
          "text": [
            "Epoch 1/15\n",
            "7121/7121 [==============================] - 40s 5ms/step - loss: 0.0025 - accuracy: 0.9995 - precision: 0.8760 - recall: 0.8249 - auc: 0.9783 - val_loss: inf - val_accuracy: 0.9989 - val_precision: 0.6638 - val_recall: 0.7857 - val_auc: 0.9384\n",
            "Epoch 2/15\n",
            "7121/7121 [==============================] - 37s 5ms/step - loss: 0.0022 - accuracy: 0.9995 - precision: 0.8798 - recall: 0.8173 - auc: 0.9782 - val_loss: 0.0861 - val_accuracy: 0.9991 - val_precision: 0.7765 - val_recall: 0.6735 - val_auc: 0.9180\n",
            "Epoch 3/15\n",
            "7121/7121 [==============================] - 37s 5ms/step - loss: 0.0011 - accuracy: 0.9995 - precision: 0.9020 - recall: 0.8173 - auc: 0.9935 - val_loss: inf - val_accuracy: 0.9991 - val_precision: 0.7069 - val_recall: 0.8367 - val_auc: 0.9384\n",
            "Epoch 4/15\n",
            "7121/7121 [==============================] - 37s 5ms/step - loss: 0.0010 - accuracy: 0.9996 - precision: 0.8946 - recall: 0.8401 - auc: 0.9947 - val_loss: inf - val_accuracy: 0.9991 - val_precision: 0.7238 - val_recall: 0.7755 - val_auc: 0.9380\n",
            "Epoch 5/15\n",
            "7121/7121 [==============================] - 39s 5ms/step - loss: 6.6481e-04 - accuracy: 0.9996 - precision: 0.9276 - recall: 0.8452 - auc: 0.9986 - val_loss: inf - val_accuracy: 0.9989 - val_precision: 0.6700 - val_recall: 0.6837 - val_auc: 0.9531\n",
            "Epoch 6/15\n",
            "7121/7121 [==============================] - 38s 5ms/step - loss: 6.2059e-04 - accuracy: 0.9996 - precision: 0.9296 - recall: 0.8376 - auc: 0.9973 - val_loss: inf - val_accuracy: 0.9992 - val_precision: 0.8161 - val_recall: 0.7245 - val_auc: 0.9535\n",
            "Epoch 7/15\n",
            "7121/7121 [==============================] - 38s 5ms/step - loss: 6.2284e-04 - accuracy: 0.9995 - precision: 0.9258 - recall: 0.7919 - auc: 0.9973 - val_loss: 0.0658 - val_accuracy: 0.9992 - val_precision: 0.7700 - val_recall: 0.7857 - val_auc: 0.9534\n",
            "Epoch 8/15\n",
            "7121/7121 [==============================] - 37s 5ms/step - loss: 5.3766e-04 - accuracy: 0.9996 - precision: 0.9244 - recall: 0.8376 - auc: 0.9960 - val_loss: 0.0747 - val_accuracy: 0.9994 - val_precision: 0.8182 - val_recall: 0.8265 - val_auc: 0.9330\n",
            "Epoch 9/15\n",
            "7121/7121 [==============================] - 37s 5ms/step - loss: 6.8992e-04 - accuracy: 0.9996 - precision: 0.9277 - recall: 0.8147 - auc: 0.9934 - val_loss: 0.0579 - val_accuracy: 0.9994 - val_precision: 0.9067 - val_recall: 0.6939 - val_auc: 0.9481\n",
            "Epoch 10/15\n",
            "7121/7121 [==============================] - 38s 5ms/step - loss: 4.5274e-04 - accuracy: 0.9996 - precision: 0.9480 - recall: 0.8325 - auc: 0.9986 - val_loss: 0.0598 - val_accuracy: 0.9993 - val_precision: 0.8500 - val_recall: 0.6939 - val_auc: 0.9327\n",
            "Epoch 11/15\n",
            "7121/7121 [==============================] - 37s 5ms/step - loss: 5.5321e-04 - accuracy: 0.9996 - precision: 0.9425 - recall: 0.8325 - auc: 0.9960 - val_loss: 0.0582 - val_accuracy: 0.9993 - val_precision: 0.8295 - val_recall: 0.7449 - val_auc: 0.9531\n",
            "Epoch 12/15\n",
            "7121/7121 [==============================] - 38s 5ms/step - loss: 4.7663e-04 - accuracy: 0.9996 - precision: 0.9331 - recall: 0.8503 - auc: 0.9986 - val_loss: 0.0596 - val_accuracy: 0.9994 - val_precision: 0.8506 - val_recall: 0.7551 - val_auc: 0.9583\n",
            "Epoch 13/15\n",
            "7121/7121 [==============================] - 37s 5ms/step - loss: 4.4310e-04 - accuracy: 0.9997 - precision: 0.9648 - recall: 0.8350 - auc: 0.9999 - val_loss: 0.0601 - val_accuracy: 0.9994 - val_precision: 0.8298 - val_recall: 0.7959 - val_auc: 0.9480\n",
            "Epoch 14/15\n",
            "7121/7121 [==============================] - 38s 5ms/step - loss: 5.3654e-04 - accuracy: 0.9997 - precision: 0.9566 - recall: 0.8401 - auc: 0.9960 - val_loss: 0.0524 - val_accuracy: 0.9993 - val_precision: 0.8554 - val_recall: 0.7245 - val_auc: 0.9431\n",
            "Epoch 15/15\n",
            "7121/7121 [==============================] - 38s 5ms/step - loss: 4.4462e-04 - accuracy: 0.9997 - precision: 0.9551 - recall: 0.8629 - auc: 0.9986 - val_loss: 0.0557 - val_accuracy: 0.9993 - val_precision: 0.8452 - val_recall: 0.7245 - val_auc: 0.9477\n"
          ]
        },
        {
          "output_type": "execute_result",
          "data": {
            "text/plain": [
              "<keras.callbacks.History at 0x7f429fcc1e20>"
            ]
          },
          "metadata": {},
          "execution_count": 31
        }
      ]
    },
    {
      "cell_type": "code",
      "source": [],
      "metadata": {
        "id": "iQVcTstOxsum"
      },
      "execution_count": 31,
      "outputs": []
    },
    {
      "cell_type": "code",
      "source": [
        "prob_X_test=model.predict(X_test)\n",
        "prob_X_train=model.predict(X_train) \n",
        "\n",
        "label_train=np.argmax(prob_X_train,axis=1)\n",
        "label_test= np.argmax(prob_X_test, axis =1)"
      ],
      "metadata": {
        "colab": {
          "base_uri": "https://localhost:8080/"
        },
        "id": "mTypfthhxsvg",
        "outputId": "b4b9e0e4-e4e9-46fb-b299-60cce8fc958d"
      },
      "execution_count": 32,
      "outputs": [
        {
          "output_type": "stream",
          "name": "stdout",
          "text": [
            "1781/1781 [==============================] - 3s 2ms/step\n",
            "7121/7121 [==============================] - 12s 2ms/step\n"
          ]
        }
      ]
    },
    {
      "cell_type": "code",
      "source": [
        "train_performance1 = []\n",
        "test_performance1 = []\n",
        "\n",
        "metrics_list = [accuracy_score,precision_score, recall_score, f1_score ]\n",
        "for m in metrics_list:\n",
        "    train_performance1.append(m(y_train,label_train))\n",
        "    test_performance1.append(m(y_test,label_test))\n",
        "\n",
        "\n",
        "performance_df1 = pd.DataFrame([train_performance1,test_performance1], columns=['accuracy', 'precision', 'recall', 'f1'], index= ['trian','test'])\n",
        "performance_df1"
      ],
      "metadata": {
        "colab": {
          "base_uri": "https://localhost:8080/",
          "height": 204
        },
        "id": "xBe4wwjXx04d",
        "outputId": "3bcd7702-c5b1-43cf-cfb1-872212660f50"
      },
      "execution_count": 33,
      "outputs": [
        {
          "output_type": "stream",
          "name": "stderr",
          "text": [
            "/usr/local/lib/python3.9/dist-packages/sklearn/metrics/_classification.py:1344: UndefinedMetricWarning: Precision is ill-defined and being set to 0.0 due to no predicted samples. Use `zero_division` parameter to control this behavior.\n",
            "  _warn_prf(average, modifier, msg_start, len(result))\n",
            "/usr/local/lib/python3.9/dist-packages/sklearn/metrics/_classification.py:1344: UndefinedMetricWarning: Precision is ill-defined and being set to 0.0 due to no predicted samples. Use `zero_division` parameter to control this behavior.\n",
            "  _warn_prf(average, modifier, msg_start, len(result))\n"
          ]
        },
        {
          "output_type": "execute_result",
          "data": {
            "text/plain": [
              "       accuracy  precision  recall   f1\n",
              "trian  0.998271        0.0     0.0  0.0\n",
              "test   0.998280        0.0     0.0  0.0"
            ],
            "text/html": [
              "\n",
              "  <div id=\"df-d4e152c3-f0b9-4ef5-b30f-43a49089fcb6\">\n",
              "    <div class=\"colab-df-container\">\n",
              "      <div>\n",
              "<style scoped>\n",
              "    .dataframe tbody tr th:only-of-type {\n",
              "        vertical-align: middle;\n",
              "    }\n",
              "\n",
              "    .dataframe tbody tr th {\n",
              "        vertical-align: top;\n",
              "    }\n",
              "\n",
              "    .dataframe thead th {\n",
              "        text-align: right;\n",
              "    }\n",
              "</style>\n",
              "<table border=\"1\" class=\"dataframe\">\n",
              "  <thead>\n",
              "    <tr style=\"text-align: right;\">\n",
              "      <th></th>\n",
              "      <th>accuracy</th>\n",
              "      <th>precision</th>\n",
              "      <th>recall</th>\n",
              "      <th>f1</th>\n",
              "    </tr>\n",
              "  </thead>\n",
              "  <tbody>\n",
              "    <tr>\n",
              "      <th>trian</th>\n",
              "      <td>0.998271</td>\n",
              "      <td>0.0</td>\n",
              "      <td>0.0</td>\n",
              "      <td>0.0</td>\n",
              "    </tr>\n",
              "    <tr>\n",
              "      <th>test</th>\n",
              "      <td>0.998280</td>\n",
              "      <td>0.0</td>\n",
              "      <td>0.0</td>\n",
              "      <td>0.0</td>\n",
              "    </tr>\n",
              "  </tbody>\n",
              "</table>\n",
              "</div>\n",
              "      <button class=\"colab-df-convert\" onclick=\"convertToInteractive('df-d4e152c3-f0b9-4ef5-b30f-43a49089fcb6')\"\n",
              "              title=\"Convert this dataframe to an interactive table.\"\n",
              "              style=\"display:none;\">\n",
              "        \n",
              "  <svg xmlns=\"http://www.w3.org/2000/svg\" height=\"24px\"viewBox=\"0 0 24 24\"\n",
              "       width=\"24px\">\n",
              "    <path d=\"M0 0h24v24H0V0z\" fill=\"none\"/>\n",
              "    <path d=\"M18.56 5.44l.94 2.06.94-2.06 2.06-.94-2.06-.94-.94-2.06-.94 2.06-2.06.94zm-11 1L8.5 8.5l.94-2.06 2.06-.94-2.06-.94L8.5 2.5l-.94 2.06-2.06.94zm10 10l.94 2.06.94-2.06 2.06-.94-2.06-.94-.94-2.06-.94 2.06-2.06.94z\"/><path d=\"M17.41 7.96l-1.37-1.37c-.4-.4-.92-.59-1.43-.59-.52 0-1.04.2-1.43.59L10.3 9.45l-7.72 7.72c-.78.78-.78 2.05 0 2.83L4 21.41c.39.39.9.59 1.41.59.51 0 1.02-.2 1.41-.59l7.78-7.78 2.81-2.81c.8-.78.8-2.07 0-2.86zM5.41 20L4 18.59l7.72-7.72 1.47 1.35L5.41 20z\"/>\n",
              "  </svg>\n",
              "      </button>\n",
              "      \n",
              "  <style>\n",
              "    .colab-df-container {\n",
              "      display:flex;\n",
              "      flex-wrap:wrap;\n",
              "      gap: 12px;\n",
              "    }\n",
              "\n",
              "    .colab-df-convert {\n",
              "      background-color: #E8F0FE;\n",
              "      border: none;\n",
              "      border-radius: 50%;\n",
              "      cursor: pointer;\n",
              "      display: none;\n",
              "      fill: #1967D2;\n",
              "      height: 32px;\n",
              "      padding: 0 0 0 0;\n",
              "      width: 32px;\n",
              "    }\n",
              "\n",
              "    .colab-df-convert:hover {\n",
              "      background-color: #E2EBFA;\n",
              "      box-shadow: 0px 1px 2px rgba(60, 64, 67, 0.3), 0px 1px 3px 1px rgba(60, 64, 67, 0.15);\n",
              "      fill: #174EA6;\n",
              "    }\n",
              "\n",
              "    [theme=dark] .colab-df-convert {\n",
              "      background-color: #3B4455;\n",
              "      fill: #D2E3FC;\n",
              "    }\n",
              "\n",
              "    [theme=dark] .colab-df-convert:hover {\n",
              "      background-color: #434B5C;\n",
              "      box-shadow: 0px 1px 3px 1px rgba(0, 0, 0, 0.15);\n",
              "      filter: drop-shadow(0px 1px 2px rgba(0, 0, 0, 0.3));\n",
              "      fill: #FFFFFF;\n",
              "    }\n",
              "  </style>\n",
              "\n",
              "      <script>\n",
              "        const buttonEl =\n",
              "          document.querySelector('#df-d4e152c3-f0b9-4ef5-b30f-43a49089fcb6 button.colab-df-convert');\n",
              "        buttonEl.style.display =\n",
              "          google.colab.kernel.accessAllowed ? 'block' : 'none';\n",
              "\n",
              "        async function convertToInteractive(key) {\n",
              "          const element = document.querySelector('#df-d4e152c3-f0b9-4ef5-b30f-43a49089fcb6');\n",
              "          const dataTable =\n",
              "            await google.colab.kernel.invokeFunction('convertToInteractive',\n",
              "                                                     [key], {});\n",
              "          if (!dataTable) return;\n",
              "\n",
              "          const docLinkHtml = 'Like what you see? Visit the ' +\n",
              "            '<a target=\"_blank\" href=https://colab.research.google.com/notebooks/data_table.ipynb>data table notebook</a>'\n",
              "            + ' to learn more about interactive tables.';\n",
              "          element.innerHTML = '';\n",
              "          dataTable['output_type'] = 'display_data';\n",
              "          await google.colab.output.renderOutput(dataTable, element);\n",
              "          const docLink = document.createElement('div');\n",
              "          docLink.innerHTML = docLinkHtml;\n",
              "          element.appendChild(docLink);\n",
              "        }\n",
              "      </script>\n",
              "    </div>\n",
              "  </div>\n",
              "  "
            ]
          },
          "metadata": {},
          "execution_count": 33
        }
      ]
    },
    {
      "cell_type": "markdown",
      "source": [
        "#Change the layers"
      ],
      "metadata": {
        "id": "xdoS9PEsyGY_"
      }
    },
    {
      "cell_type": "code",
      "source": [
        "class_weight = {1: 0.9, 0: .1}# We assign a weight for target classes to handle imbalance.\n",
        "\n",
        "# Define the Keras model: 2 hidden layer and an output layer\n",
        "model = Sequential()\n",
        "model.add(Dense(16, input_dim=X.shape[1], activation='relu'))\n",
        "model.add(Dense(32, activation='relu'))\n",
        "model.add(Dense(16, activation='relu'))\n",
        "model.add(Dense(8, activation='relu'))\n",
        "model.add(Dense(1, activation='sigmoid'))#The sigmoid activation function is commonly used for binary classification tasks because it maps the output of the neural network to a value between 0 and \n",
        "\n",
        "# Compile the model\n",
        "model.compile(loss='binary_crossentropy', optimizer='adam', metrics=['accuracy'])\n",
        "\n",
        "# Train the model\n",
        "history = model.fit(X_train, y_train, epochs=15, batch_size=32, validation_data=(X_test, y_test), class_weight = class_weight)"
      ],
      "metadata": {
        "colab": {
          "base_uri": "https://localhost:8080/"
        },
        "id": "1VZ64dNfyFp-",
        "outputId": "0cc90353-5be7-4d3b-b815-fea0a8879661"
      },
      "execution_count": 34,
      "outputs": [
        {
          "output_type": "stream",
          "name": "stdout",
          "text": [
            "Epoch 1/15\n",
            "7121/7121 [==============================] - 33s 4ms/step - loss: 0.0028 - accuracy: 0.9982 - val_loss: 0.0067 - val_accuracy: 0.9992\n",
            "Epoch 2/15\n",
            "7121/7121 [==============================] - 34s 5ms/step - loss: 0.0017 - accuracy: 0.9993 - val_loss: 0.0053 - val_accuracy: 0.9988\n",
            "Epoch 3/15\n",
            "7121/7121 [==============================] - 35s 5ms/step - loss: 0.0016 - accuracy: 0.9991 - val_loss: 0.0070 - val_accuracy: 0.9990\n",
            "Epoch 4/15\n",
            "7121/7121 [==============================] - 32s 5ms/step - loss: 0.0013 - accuracy: 0.9991 - val_loss: 0.0090 - val_accuracy: 0.9987\n",
            "Epoch 5/15\n",
            "7121/7121 [==============================] - 33s 5ms/step - loss: 0.0013 - accuracy: 0.9991 - val_loss: 0.0064 - val_accuracy: 0.9991\n",
            "Epoch 6/15\n",
            "7121/7121 [==============================] - 33s 5ms/step - loss: 0.0012 - accuracy: 0.9991 - val_loss: 0.0040 - val_accuracy: 0.9989\n",
            "Epoch 7/15\n",
            "7121/7121 [==============================] - 33s 5ms/step - loss: 0.0012 - accuracy: 0.9990 - val_loss: 0.0047 - val_accuracy: 0.9989\n",
            "Epoch 8/15\n",
            "7121/7121 [==============================] - 32s 4ms/step - loss: 0.0011 - accuracy: 0.9992 - val_loss: 0.0048 - val_accuracy: 0.9990\n",
            "Epoch 9/15\n",
            "7121/7121 [==============================] - 35s 5ms/step - loss: 0.0011 - accuracy: 0.9990 - val_loss: 0.0053 - val_accuracy: 0.9988\n",
            "Epoch 10/15\n",
            "7121/7121 [==============================] - 32s 4ms/step - loss: 0.0011 - accuracy: 0.9990 - val_loss: 0.0076 - val_accuracy: 0.9988\n",
            "Epoch 11/15\n",
            "7121/7121 [==============================] - 32s 4ms/step - loss: 0.0011 - accuracy: 0.9991 - val_loss: 0.0053 - val_accuracy: 0.9988\n",
            "Epoch 12/15\n",
            "7121/7121 [==============================] - 34s 5ms/step - loss: 0.0010 - accuracy: 0.9992 - val_loss: 0.0051 - val_accuracy: 0.9989\n",
            "Epoch 13/15\n",
            "7121/7121 [==============================] - 32s 5ms/step - loss: 0.0010 - accuracy: 0.9992 - val_loss: 0.0049 - val_accuracy: 0.9991\n",
            "Epoch 14/15\n",
            "7121/7121 [==============================] - 33s 5ms/step - loss: 9.3337e-04 - accuracy: 0.9992 - val_loss: 0.0055 - val_accuracy: 0.9988\n",
            "Epoch 15/15\n",
            "7121/7121 [==============================] - 32s 5ms/step - loss: 9.3504e-04 - accuracy: 0.9990 - val_loss: 0.0047 - val_accuracy: 0.9992\n"
          ]
        },
        {
          "output_type": "execute_result",
          "data": {
            "text/plain": [
              "<keras.callbacks.History at 0x7f4297ee0250>"
            ]
          },
          "metadata": {},
          "execution_count": 34
        }
      ]
    },
    {
      "cell_type": "code",
      "source": [
        "loss, accuracy = model.evaluate(X_test, y_test)\n",
        "print('Test Loss:', loss)\n",
        "print('Test Accuracy:', accuracy)"
      ],
      "metadata": {
        "colab": {
          "base_uri": "https://localhost:8080/"
        },
        "id": "8qVHLhtyFIEM",
        "outputId": "e6a09582-b269-464b-ea93-33d3c478c429"
      },
      "execution_count": 36,
      "outputs": [
        {
          "output_type": "stream",
          "name": "stdout",
          "text": [
            "1781/1781 [==============================] - 4s 2ms/step - loss: 0.0047 - accuracy: 0.9992\n",
            "Test Loss: 0.0047484105452895164\n",
            "Test Accuracy: 0.9991573095321655\n"
          ]
        }
      ]
    },
    {
      "cell_type": "code",
      "source": [
        "prob_X_test=model.predict(X_test)\n",
        "prob_X_train=model.predict(X_train) \n",
        "\n",
        "label_train=np.argmax(prob_X_train,axis=1)\n",
        "label_test= np.argmax(prob_X_test, axis =1)"
      ],
      "metadata": {
        "colab": {
          "base_uri": "https://localhost:8080/"
        },
        "id": "oG8FXmkyFNoz",
        "outputId": "3f51cc1a-cc31-4ab1-a3ed-c518554688b6"
      },
      "execution_count": 37,
      "outputs": [
        {
          "output_type": "stream",
          "name": "stdout",
          "text": [
            "1781/1781 [==============================] - 3s 2ms/step\n",
            "7121/7121 [==============================] - 12s 2ms/step\n"
          ]
        }
      ]
    },
    {
      "cell_type": "code",
      "source": [
        "train_performance1 = []\n",
        "test_performance1 = []\n",
        "\n",
        "metrics_list = [accuracy_score,precision_score, recall_score, f1_score ]\n",
        "for m in metrics_list:\n",
        "    train_performance1.append(m(y_train,label_train))\n",
        "    test_performance1.append(m(y_test,label_test))\n",
        "\n",
        "\n",
        "performance_df1 = pd.DataFrame([train_performance1,test_performance1], columns=['accuracy', 'precision', 'recall', 'f1'], index= ['trian','test'])\n",
        "performance_df1\n"
      ],
      "metadata": {
        "colab": {
          "base_uri": "https://localhost:8080/",
          "height": 204
        },
        "id": "gyNQuKa8FVD7",
        "outputId": "c97e4fd4-753a-4797-e683-da59aee92d0d"
      },
      "execution_count": 38,
      "outputs": [
        {
          "output_type": "stream",
          "name": "stderr",
          "text": [
            "/usr/local/lib/python3.9/dist-packages/sklearn/metrics/_classification.py:1344: UndefinedMetricWarning: Precision is ill-defined and being set to 0.0 due to no predicted samples. Use `zero_division` parameter to control this behavior.\n",
            "  _warn_prf(average, modifier, msg_start, len(result))\n",
            "/usr/local/lib/python3.9/dist-packages/sklearn/metrics/_classification.py:1344: UndefinedMetricWarning: Precision is ill-defined and being set to 0.0 due to no predicted samples. Use `zero_division` parameter to control this behavior.\n",
            "  _warn_prf(average, modifier, msg_start, len(result))\n"
          ]
        },
        {
          "output_type": "execute_result",
          "data": {
            "text/plain": [
              "       accuracy  precision  recall   f1\n",
              "trian  0.998271        0.0     0.0  0.0\n",
              "test   0.998280        0.0     0.0  0.0"
            ],
            "text/html": [
              "\n",
              "  <div id=\"df-bbfa7734-87d2-4fb5-a2af-e5a3112a192a\">\n",
              "    <div class=\"colab-df-container\">\n",
              "      <div>\n",
              "<style scoped>\n",
              "    .dataframe tbody tr th:only-of-type {\n",
              "        vertical-align: middle;\n",
              "    }\n",
              "\n",
              "    .dataframe tbody tr th {\n",
              "        vertical-align: top;\n",
              "    }\n",
              "\n",
              "    .dataframe thead th {\n",
              "        text-align: right;\n",
              "    }\n",
              "</style>\n",
              "<table border=\"1\" class=\"dataframe\">\n",
              "  <thead>\n",
              "    <tr style=\"text-align: right;\">\n",
              "      <th></th>\n",
              "      <th>accuracy</th>\n",
              "      <th>precision</th>\n",
              "      <th>recall</th>\n",
              "      <th>f1</th>\n",
              "    </tr>\n",
              "  </thead>\n",
              "  <tbody>\n",
              "    <tr>\n",
              "      <th>trian</th>\n",
              "      <td>0.998271</td>\n",
              "      <td>0.0</td>\n",
              "      <td>0.0</td>\n",
              "      <td>0.0</td>\n",
              "    </tr>\n",
              "    <tr>\n",
              "      <th>test</th>\n",
              "      <td>0.998280</td>\n",
              "      <td>0.0</td>\n",
              "      <td>0.0</td>\n",
              "      <td>0.0</td>\n",
              "    </tr>\n",
              "  </tbody>\n",
              "</table>\n",
              "</div>\n",
              "      <button class=\"colab-df-convert\" onclick=\"convertToInteractive('df-bbfa7734-87d2-4fb5-a2af-e5a3112a192a')\"\n",
              "              title=\"Convert this dataframe to an interactive table.\"\n",
              "              style=\"display:none;\">\n",
              "        \n",
              "  <svg xmlns=\"http://www.w3.org/2000/svg\" height=\"24px\"viewBox=\"0 0 24 24\"\n",
              "       width=\"24px\">\n",
              "    <path d=\"M0 0h24v24H0V0z\" fill=\"none\"/>\n",
              "    <path d=\"M18.56 5.44l.94 2.06.94-2.06 2.06-.94-2.06-.94-.94-2.06-.94 2.06-2.06.94zm-11 1L8.5 8.5l.94-2.06 2.06-.94-2.06-.94L8.5 2.5l-.94 2.06-2.06.94zm10 10l.94 2.06.94-2.06 2.06-.94-2.06-.94-.94-2.06-.94 2.06-2.06.94z\"/><path d=\"M17.41 7.96l-1.37-1.37c-.4-.4-.92-.59-1.43-.59-.52 0-1.04.2-1.43.59L10.3 9.45l-7.72 7.72c-.78.78-.78 2.05 0 2.83L4 21.41c.39.39.9.59 1.41.59.51 0 1.02-.2 1.41-.59l7.78-7.78 2.81-2.81c.8-.78.8-2.07 0-2.86zM5.41 20L4 18.59l7.72-7.72 1.47 1.35L5.41 20z\"/>\n",
              "  </svg>\n",
              "      </button>\n",
              "      \n",
              "  <style>\n",
              "    .colab-df-container {\n",
              "      display:flex;\n",
              "      flex-wrap:wrap;\n",
              "      gap: 12px;\n",
              "    }\n",
              "\n",
              "    .colab-df-convert {\n",
              "      background-color: #E8F0FE;\n",
              "      border: none;\n",
              "      border-radius: 50%;\n",
              "      cursor: pointer;\n",
              "      display: none;\n",
              "      fill: #1967D2;\n",
              "      height: 32px;\n",
              "      padding: 0 0 0 0;\n",
              "      width: 32px;\n",
              "    }\n",
              "\n",
              "    .colab-df-convert:hover {\n",
              "      background-color: #E2EBFA;\n",
              "      box-shadow: 0px 1px 2px rgba(60, 64, 67, 0.3), 0px 1px 3px 1px rgba(60, 64, 67, 0.15);\n",
              "      fill: #174EA6;\n",
              "    }\n",
              "\n",
              "    [theme=dark] .colab-df-convert {\n",
              "      background-color: #3B4455;\n",
              "      fill: #D2E3FC;\n",
              "    }\n",
              "\n",
              "    [theme=dark] .colab-df-convert:hover {\n",
              "      background-color: #434B5C;\n",
              "      box-shadow: 0px 1px 3px 1px rgba(0, 0, 0, 0.15);\n",
              "      filter: drop-shadow(0px 1px 2px rgba(0, 0, 0, 0.3));\n",
              "      fill: #FFFFFF;\n",
              "    }\n",
              "  </style>\n",
              "\n",
              "      <script>\n",
              "        const buttonEl =\n",
              "          document.querySelector('#df-bbfa7734-87d2-4fb5-a2af-e5a3112a192a button.colab-df-convert');\n",
              "        buttonEl.style.display =\n",
              "          google.colab.kernel.accessAllowed ? 'block' : 'none';\n",
              "\n",
              "        async function convertToInteractive(key) {\n",
              "          const element = document.querySelector('#df-bbfa7734-87d2-4fb5-a2af-e5a3112a192a');\n",
              "          const dataTable =\n",
              "            await google.colab.kernel.invokeFunction('convertToInteractive',\n",
              "                                                     [key], {});\n",
              "          if (!dataTable) return;\n",
              "\n",
              "          const docLinkHtml = 'Like what you see? Visit the ' +\n",
              "            '<a target=\"_blank\" href=https://colab.research.google.com/notebooks/data_table.ipynb>data table notebook</a>'\n",
              "            + ' to learn more about interactive tables.';\n",
              "          element.innerHTML = '';\n",
              "          dataTable['output_type'] = 'display_data';\n",
              "          await google.colab.output.renderOutput(dataTable, element);\n",
              "          const docLink = document.createElement('div');\n",
              "          docLink.innerHTML = docLinkHtml;\n",
              "          element.appendChild(docLink);\n",
              "        }\n",
              "      </script>\n",
              "    </div>\n",
              "  </div>\n",
              "  "
            ]
          },
          "metadata": {},
          "execution_count": 38
        }
      ]
    },
    {
      "cell_type": "code",
      "source": [
        "import matplotlib.pyplot as plt\n",
        "\n",
        "\n",
        "# summarize history for accuracy\n",
        "plt.plot(history.history['accuracy'])\n",
        "plt.plot(history.history['val_accuracy'])\n",
        "plt.title('Model Accuracy')\n",
        "plt.ylabel('Accuracy')\n",
        "plt.xlabel('Epoch')\n",
        "plt.legend(['train', 'val'], loc='upper left')\n",
        "plt.show()\n",
        "\n",
        "# summarize history for loss\n",
        "plt.plot(history.history['loss'])\n",
        "plt.plot(history.history['val_loss'])\n",
        "plt.title('Model Loss')\n",
        "plt.ylabel('Loss')\n",
        "plt.xlabel('Epoch')\n",
        "plt.legend(['train', 'val'], loc='upper left')\n",
        "plt.show()\n"
      ],
      "metadata": {
        "colab": {
          "base_uri": "https://localhost:8080/",
          "height": 927
        },
        "id": "lTYxD5EwFZm8",
        "outputId": "35348c68-5523-4daf-910f-6fef47ebed3a"
      },
      "execution_count": 39,
      "outputs": [
        {
          "output_type": "display_data",
          "data": {
            "text/plain": [
              "<Figure size 640x480 with 1 Axes>"
            ],
            "image/png": "[encoded data removed]"
          },
          "metadata": {}
        },
        {
          "output_type": "display_data",
          "data": {
            "text/plain": [
              "<Figure size 640x480 with 1 Axes>"
            ],
            "image/png": "[encoded data removed]"
          },
          "metadata": {}
        }
      ]
    }
  ]
}